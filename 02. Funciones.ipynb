{
  "cells": [
    {
      "cell_type": "markdown",
      "metadata": {
        "id": "view-in-github",
        "colab_type": "text"
      },
      "source": [
        "<a href=\"https://colab.research.google.com/github/GTD2101-ACD-AA-EJ23/01-Python-basico-21170016/blob/main/02.%20Funciones.ipynb\" target=\"_parent\"><img src=\"https://colab.research.google.com/assets/colab-badge.svg\" alt=\"Open In Colab\"/></a>"
      ]
    },
    {
      "cell_type": "markdown",
      "metadata": {
        "id": "18Sc3dIi91yP"
      },
      "source": [
        "# Funciones\n",
        "\n",
        "En este JNB se revisará el tema de Funciones"
      ]
    },
    {
      "cell_type": "code",
      "execution_count": 7,
      "metadata": {
        "id": "O8NoTzxjs2wK"
      },
      "outputs": [],
      "source": [
        "# Define the function\n",
        "def add_three(input_var):\n",
        "  output_var = input_var + 3\n",
        "  return output_var"
      ]
    },
    {
      "cell_type": "markdown",
      "source": [
        "# Mandando llamar a la funciòn\n",
        "\n",
        "Una vez que se define la funciòn en alguna celda anterior, se puede invocar a celdas posteriores."
      ],
      "metadata": {
        "id": "yTHFsKRy-iOk"
      }
    },
    {
      "cell_type": "code",
      "source": [
        "# Run the function with 10 as input\n",
        "new_number = add_three(10)\n",
        "\n",
        "# Check that the value is 13, as expected\n",
        "print(new_number)"
      ],
      "metadata": {
        "id": "Z6cyy3cE-1GQ",
        "outputId": "9ea0b704-f3af-4c99-97cc-d7d285a34dee",
        "colab": {
          "base_uri": "https://localhost:8080/"
        }
      },
      "execution_count": 8,
      "outputs": [
        {
          "output_type": "stream",
          "name": "stdout",
          "text": [
            "13\n"
          ]
        }
      ]
    },
    {
      "cell_type": "markdown",
      "source": [
        "# Un ejemplo mas complejo\n",
        "\n",
        "Es posible enviar o definir una funciòn con un nùmero de paràmetros y utilizarla"
      ],
      "metadata": {
        "id": "6kTvCVL2_TPl"
      }
    },
    {
      "cell_type": "code",
      "source": [
        "def get_pay(num_hours):\n",
        "  # Pre-tax pay, based on receiving $15/hour\n",
        "  pay_pretax = num_hours * 15\n",
        "  # After-tax pay, based on being in 12% tax bracket\n",
        "  pay_aftertax = pay_pretax * (1 - .12)\n",
        "  return pay_aftertax"
      ],
      "metadata": {
        "id": "djJw9lQw_cFu"
      },
      "execution_count": 9,
      "outputs": []
    },
    {
      "cell_type": "markdown",
      "source": [
        "Probando la funciòn de calculo de pagos."
      ],
      "metadata": {
        "id": "RgzKQQpRAJIO"
      }
    },
    {
      "cell_type": "code",
      "source": [
        "# Calculate pay based on working 40 hours\n",
        "pay_fulltime = get_pay(40)\n",
        "print(pay_fulltime)"
      ],
      "metadata": {
        "id": "HbBBu44FAMsf",
        "outputId": "991c75e6-d90d-4f22-a29c-8a3191646892",
        "colab": {
          "base_uri": "https://localhost:8080/"
        }
      },
      "execution_count": 10,
      "outputs": [
        {
          "output_type": "stream",
          "name": "stdout",
          "text": [
            "528.0\n"
          ]
        }
      ]
    },
    {
      "cell_type": "code",
      "source": [
        "pay_parttime = get_pay(32)\n",
        "print(pay_parttime)"
      ],
      "metadata": {
        "id": "6TbgfnxvAfLj",
        "outputId": "879caf7e-aaf3-4610-fe09-f403999c4668",
        "colab": {
          "base_uri": "https://localhost:8080/"
        }
      },
      "execution_count": 11,
      "outputs": [
        {
          "output_type": "stream",
          "name": "stdout",
          "text": [
            "422.4\n"
          ]
        }
      ]
    },
    {
      "cell_type": "markdown",
      "source": [
        "# Alcance\n",
        "\n",
        "Existen diferentes alcances para las variables locales y globales."
      ],
      "metadata": {
        "id": "7KaAN5DEAbk3"
      }
    },
    {
      "cell_type": "code",
      "source": [
        "print(pay_aftertax)"
      ],
      "metadata": {
        "id": "nYDz5sKrBKvW",
        "outputId": "e340d6b3-2e28-40b1-d20d-5a02b54a4236",
        "colab": {
          "base_uri": "https://localhost:8080/",
          "height": 166
        }
      },
      "execution_count": 12,
      "outputs": [
        {
          "output_type": "error",
          "ename": "NameError",
          "evalue": "ignored",
          "traceback": [
            "\u001b[0;31m---------------------------------------------------------------------------\u001b[0m",
            "\u001b[0;31mNameError\u001b[0m                                 Traceback (most recent call last)",
            "\u001b[0;32m<ipython-input-12-0dc6de9a0e5a>\u001b[0m in \u001b[0;36m<module>\u001b[0;34m\u001b[0m\n\u001b[0;32m----> 1\u001b[0;31m \u001b[0mprint\u001b[0m\u001b[0;34m(\u001b[0m\u001b[0mpay_aftertax\u001b[0m\u001b[0;34m)\u001b[0m\u001b[0;34m\u001b[0m\u001b[0;34m\u001b[0m\u001b[0m\n\u001b[0m",
            "\u001b[0;31mNameError\u001b[0m: name 'pay_aftertax' is not defined"
          ]
        }
      ]
    },
    {
      "cell_type": "markdown",
      "source": [
        "# Funciones con mùltiples paràmetros\n",
        "\n",
        "Es porsible que una funciòn reciba màs de un argumento en su llamada."
      ],
      "metadata": {
        "id": "MMIV5MEGBocc"
      }
    },
    {
      "cell_type": "code",
      "source": [
        "def get_pay_with_more_inputs(num_hours, hourly_wage, tax_bracket):\n",
        "  # Pre-tax pay\n",
        "  pay_pretax = num_hours * hourly_wage\n",
        "  # After-tax pay\n",
        "  pay_aftertax = pay_pretax * (1 - tax_bracket)\n",
        "  return pay_aftertax"
      ],
      "metadata": {
        "id": "ZXPYlI3NB4Ql"
      },
      "execution_count": 13,
      "outputs": []
    },
    {
      "cell_type": "markdown",
      "source": [
        "Mandando llamar a la funciòn:"
      ],
      "metadata": {
        "id": "hprSHRzBCJa3"
      }
    },
    {
      "cell_type": "code",
      "source": [
        "higher_pay_aftertax = get_pay_with_more_inputs(40, 24, .22)\n",
        "print(higher_pay_aftertax)"
      ],
      "metadata": {
        "id": "mkwRY56XCTT4",
        "outputId": "ea46a9eb-295b-4837-c2db-96aad5dd7cca",
        "colab": {
          "base_uri": "https://localhost:8080/"
        }
      },
      "execution_count": 14,
      "outputs": [
        {
          "output_type": "stream",
          "name": "stdout",
          "text": [
            "748.8000000000001\n"
          ]
        }
      ]
    },
    {
      "cell_type": "markdown",
      "source": [
        "# Funciòn sin argumentos\n",
        "\n",
        "Es posible definir una funciòn que no reciba argumentos ni regresa valor alguno."
      ],
      "metadata": {
        "id": "KPiYgDzLCj9d"
      }
    },
    {
      "cell_type": "code",
      "source": [
        "# Define the function with no arguments and with no return\n",
        "def print_hello():\n",
        "  print(\"Hello, you!\")\n",
        "  print(\"Good morning!\")\n",
        "    \n",
        "# Call the function\n",
        "print_hello()"
      ],
      "metadata": {
        "id": "LxXdVXI1CuC5",
        "outputId": "5633f43f-a87e-40b5-a269-c3de87b071ef",
        "colab": {
          "base_uri": "https://localhost:8080/"
        }
      },
      "execution_count": 15,
      "outputs": [
        {
          "output_type": "stream",
          "name": "stdout",
          "text": [
            "Hello, you!\n",
            "Good morning!\n"
          ]
        }
      ]
    }
  ],
  "metadata": {
    "colab": {
      "provenance": [],
      "include_colab_link": true
    },
    "kernelspec": {
      "display_name": "Python 3.10.7 64-bit",
      "language": "python",
      "name": "python3"
    },
    "language_info": {
      "codemirror_mode": {
        "name": "ipython",
        "version": 3
      },
      "file_extension": ".py",
      "mimetype": "text/x-python",
      "name": "python",
      "nbconvert_exporter": "python",
      "pygments_lexer": "ipython3",
      "version": "3.10.7"
    },
    "orig_nbformat": 4,
    "vscode": {
      "interpreter": {
        "hash": "eb4a0ac80907d7f44e1a5e88d3d3381b33e3dbedd3a24d113e876f30a0c46bee"
      }
    }
  },
  "nbformat": 4,
  "nbformat_minor": 0
}