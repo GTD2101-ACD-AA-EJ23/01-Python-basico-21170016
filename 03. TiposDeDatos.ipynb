{
  "cells": [
    {
      "cell_type": "markdown",
      "metadata": {
        "id": "view-in-github",
        "colab_type": "text"
      },
      "source": [
        "<a href=\"https://colab.research.google.com/github/GTD2101-ACD-AA-EJ23/01-Python-basico-21170016/blob/main/03.%20TiposDeDatos.ipynb\" target=\"_parent\"><img src=\"https://colab.research.google.com/assets/colab-badge.svg\" alt=\"Open In Colab\"/></a>"
      ]
    },
    {
      "cell_type": "markdown",
      "metadata": {
        "id": "YJqYJlryU4Ct"
      },
      "source": [
        "# Tipos de Datos\n",
        "\n",
        "En este JNB se revisará el tema de Tipos de Datos"
      ]
    },
    {
      "cell_type": "markdown",
      "source": [
        "# Enteros\n",
        "\n",
        "Este tipo de dato es el tradicional de valores que son enteros."
      ],
      "metadata": {
        "id": "Y5wwIar7VJcS"
      }
    },
    {
      "cell_type": "code",
      "execution_count": 5,
      "metadata": {
        "id": "O8NoTzxjs2wK",
        "outputId": "eaf63c41-c127-4693-aac9-faad7f83d780",
        "colab": {
          "base_uri": "https://localhost:8080/"
        }
      },
      "outputs": [
        {
          "output_type": "stream",
          "name": "stdout",
          "text": [
            "14\n",
            "<class 'int'>\n"
          ]
        }
      ],
      "source": [
        "x = 14\n",
        "print(x)\n",
        "print(type(x))"
      ]
    },
    {
      "cell_type": "markdown",
      "source": [
        "# Flotantes\n",
        "\n",
        "Son los nùmero reales."
      ],
      "metadata": {
        "id": "Y1YbYLFIVoPw"
      }
    },
    {
      "cell_type": "code",
      "source": [
        "nearly_pi = 3.141592653589793238462643383279502884197169399375105820974944\n",
        "print(nearly_pi)\n",
        "print(type(nearly_pi))"
      ],
      "metadata": {
        "id": "hKZbN_C7VrMM",
        "outputId": "6eeb83ad-2e70-4385-8b84-0a641f680979",
        "colab": {
          "base_uri": "https://localhost:8080/"
        }
      },
      "execution_count": 6,
      "outputs": [
        {
          "output_type": "stream",
          "name": "stdout",
          "text": [
            "3.141592653589793\n",
            "<class 'float'>\n"
          ]
        }
      ]
    },
    {
      "cell_type": "markdown",
      "source": [
        "Es posible que el resultado de un cociente sea un nùmero flotante:"
      ],
      "metadata": {
        "id": "-m8N1QutV_rF"
      }
    },
    {
      "cell_type": "code",
      "source": [
        "almost_pi = 22/7\n",
        "print(almost_pi)\n",
        "print(type(almost_pi))"
      ],
      "metadata": {
        "id": "j-B06xDDWGpL",
        "outputId": "f14c9426-b1da-4af4-ab74-9a13a1cabc84",
        "colab": {
          "base_uri": "https://localhost:8080/"
        }
      },
      "execution_count": 7,
      "outputs": [
        {
          "output_type": "stream",
          "name": "stdout",
          "text": [
            "3.142857142857143\n",
            "<class 'float'>\n"
          ]
        }
      ]
    },
    {
      "cell_type": "markdown",
      "source": [
        "Es posible rendondear a cierto nùmero de valores decimales:"
      ],
      "metadata": {
        "id": "4VzD70QVWbJ_"
      }
    },
    {
      "cell_type": "code",
      "source": [
        "# Round to 5 decimal places\n",
        "rounded_pi = round(almost_pi, 5)\n",
        "print(rounded_pi)\n",
        "print(type(rounded_pi))"
      ],
      "metadata": {
        "id": "RNU1yTqTWeno",
        "outputId": "83470e87-9adf-4879-dc50-b608bde7dfa7",
        "colab": {
          "base_uri": "https://localhost:8080/"
        }
      },
      "execution_count": 8,
      "outputs": [
        {
          "output_type": "stream",
          "name": "stdout",
          "text": [
            "3.14286\n",
            "<class 'float'>\n"
          ]
        }
      ]
    },
    {
      "cell_type": "markdown",
      "source": [
        "La presencia del punto decimal en cualquier nùmero lo convierte a un tipo flotante:"
      ],
      "metadata": {
        "id": "Z2yt-RCQWwIK"
      }
    },
    {
      "cell_type": "code",
      "source": [
        "y_float = 1.\n",
        "print(y_float)\n",
        "print(type(y_float))"
      ],
      "metadata": {
        "id": "zuN4K9M5W0pb",
        "outputId": "008579fd-9b8c-40b3-b2ac-b5d825de9482",
        "colab": {
          "base_uri": "https://localhost:8080/"
        }
      },
      "execution_count": 9,
      "outputs": [
        {
          "output_type": "stream",
          "name": "stdout",
          "text": [
            "1.0\n",
            "<class 'float'>\n"
          ]
        }
      ]
    },
    {
      "cell_type": "markdown",
      "source": [
        "# Booleans\n",
        "\n",
        "Este tipo de dato se utiliza para manejar valores Falsos y Verdaderos:"
      ],
      "metadata": {
        "id": "naWpg0khXE3P"
      }
    },
    {
      "cell_type": "code",
      "source": [
        "z_one = True\n",
        "print(z_one)\n",
        "print(type(z_one))"
      ],
      "metadata": {
        "id": "p3OJXj3AXK0d",
        "outputId": "27022acf-478c-4ea5-e61e-1b726fa1e839",
        "colab": {
          "base_uri": "https://localhost:8080/"
        }
      },
      "execution_count": 10,
      "outputs": [
        {
          "output_type": "stream",
          "name": "stdout",
          "text": [
            "True\n",
            "<class 'bool'>\n"
          ]
        }
      ]
    },
    {
      "cell_type": "code",
      "source": [
        "z_two = False\n",
        "print(z_two)\n",
        "print(type(z_two))"
      ],
      "metadata": {
        "id": "_6irP81BXe-q",
        "outputId": "44946dcd-aaad-4100-82f5-c9e3c60b0353",
        "colab": {
          "base_uri": "https://localhost:8080/"
        }
      },
      "execution_count": 11,
      "outputs": [
        {
          "output_type": "stream",
          "name": "stdout",
          "text": [
            "False\n",
            "<class 'bool'>\n"
          ]
        }
      ]
    },
    {
      "cell_type": "markdown",
      "source": [
        "Las expresiones de tipo relacional se evaluan a valores booleanos:"
      ],
      "metadata": {
        "id": "HDeOQT1ZXrgN"
      }
    },
    {
      "cell_type": "code",
      "source": [
        "z_three = (1 < 2)\n",
        "print(z_three)\n",
        "print(type(z_three))"
      ],
      "metadata": {
        "id": "zKr-rJC3XvNG",
        "outputId": "e9bb5b29-f4ed-4e97-fd94-17e46eb064c5",
        "colab": {
          "base_uri": "https://localhost:8080/"
        }
      },
      "execution_count": 12,
      "outputs": [
        {
          "output_type": "stream",
          "name": "stdout",
          "text": [
            "True\n",
            "<class 'bool'>\n"
          ]
        }
      ]
    },
    {
      "cell_type": "markdown",
      "source": [
        "Se pueden utilizar operadores lògicos:"
      ],
      "metadata": {
        "id": "GwemeZoKYYj1"
      }
    },
    {
      "cell_type": "code",
      "source": [
        "z_four = (5 < 3)\n",
        "print(z_four)\n",
        "print(type(z_four))"
      ],
      "metadata": {
        "id": "LDBeElQ1Yb6_",
        "outputId": "d7d14164-026a-42d1-f982-cc98090823e8",
        "colab": {
          "base_uri": "https://localhost:8080/"
        }
      },
      "execution_count": 13,
      "outputs": [
        {
          "output_type": "stream",
          "name": "stdout",
          "text": [
            "False\n",
            "<class 'bool'>\n"
          ]
        }
      ]
    },
    {
      "cell_type": "code",
      "source": [
        "z_five = not z_four\n",
        "print(z_five)\n",
        "print(type(z_five))"
      ],
      "metadata": {
        "id": "jPxsYY52YggE",
        "outputId": "fde77c8f-4205-430f-f793-8df183b34987",
        "colab": {
          "base_uri": "https://localhost:8080/"
        }
      },
      "execution_count": 14,
      "outputs": [
        {
          "output_type": "stream",
          "name": "stdout",
          "text": [
            "True\n",
            "<class 'bool'>\n"
          ]
        }
      ]
    },
    {
      "cell_type": "markdown",
      "source": [
        "# Strings\n",
        "\n",
        "Representan cualquier secuencia de caracteres. Se pueden manejar en una o màs lìneas. Y se pueden representar con comillas simples, dobles y triples."
      ],
      "metadata": {
        "id": "vWUadW7sYzWp"
      }
    },
    {
      "cell_type": "code",
      "source": [
        "w = \"Hello, Python!\"\n",
        "print(w)\n",
        "print(type(w))"
      ],
      "metadata": {
        "id": "1Hjuqa-nZDKi",
        "outputId": "d19f38da-7a69-4a7a-d23e-556d6899fc91",
        "colab": {
          "base_uri": "https://localhost:8080/"
        }
      },
      "execution_count": 15,
      "outputs": [
        {
          "output_type": "stream",
          "name": "stdout",
          "text": [
            "Hello, Python!\n",
            "<class 'str'>\n"
          ]
        }
      ]
    },
    {
      "cell_type": "markdown",
      "source": [],
      "metadata": {
        "id": "GDgdDgXTXEz7"
      }
    },
    {
      "cell_type": "markdown",
      "source": [
        "Consultando la longitud de un string con la funciòn len()."
      ],
      "metadata": {
        "id": "1jr9k_yjZpHn"
      }
    },
    {
      "cell_type": "code",
      "source": [
        "print(len(w))"
      ],
      "metadata": {
        "id": "Zv-xECppZuWn",
        "outputId": "1485a603-4bf6-4e06-fe31-cf00f9ddfcb3",
        "colab": {
          "base_uri": "https://localhost:8080/"
        }
      },
      "execution_count": 16,
      "outputs": [
        {
          "output_type": "stream",
          "name": "stdout",
          "text": [
            "14\n"
          ]
        }
      ]
    },
    {
      "cell_type": "markdown",
      "source": [
        "Un string especial es el que tiene longitud 0:"
      ],
      "metadata": {
        "id": "kKfvBdbWaEVi"
      }
    },
    {
      "cell_type": "code",
      "source": [
        "shortest_string = \"\"\n",
        "print(type(shortest_string))\n",
        "print(len(shortest_string))"
      ],
      "metadata": {
        "id": "O3ZZobHZZzNH",
        "outputId": "66c17a5d-14a5-412d-d794-5f932881a993",
        "colab": {
          "base_uri": "https://localhost:8080/"
        }
      },
      "execution_count": 17,
      "outputs": [
        {
          "output_type": "stream",
          "name": "stdout",
          "text": [
            "<class 'str'>\n",
            "0\n"
          ]
        }
      ]
    },
    {
      "cell_type": "markdown",
      "source": [
        "Se pueden manejar strings de nùmeros, pero hay que convertirlos para darles el tratamiento como tales:"
      ],
      "metadata": {
        "id": "usNtpYPFaeOX"
      }
    },
    {
      "cell_type": "code",
      "source": [
        "my_number = \"1.12321\"\n",
        "print(my_number)\n",
        "print(type(my_number))"
      ],
      "metadata": {
        "id": "CTgJCddZajfV",
        "outputId": "febf8e49-4c4d-4f38-e96b-a5e4d0c8edae",
        "colab": {
          "base_uri": "https://localhost:8080/"
        }
      },
      "execution_count": 18,
      "outputs": [
        {
          "output_type": "stream",
          "name": "stdout",
          "text": [
            "1.12321\n",
            "<class 'str'>\n"
          ]
        }
      ]
    },
    {
      "cell_type": "code",
      "source": [
        "also_my_number = float(my_number)\n",
        "print(also_my_number)\n",
        "print(type(also_my_number))"
      ],
      "metadata": {
        "id": "bUMUljgFavnB",
        "outputId": "a3ec062f-8c57-46db-b4b8-d1f0cd8eb814",
        "colab": {
          "base_uri": "https://localhost:8080/"
        }
      },
      "execution_count": 19,
      "outputs": [
        {
          "output_type": "stream",
          "name": "stdout",
          "text": [
            "1.12321\n",
            "<class 'float'>\n"
          ]
        }
      ]
    },
    {
      "cell_type": "markdown",
      "source": [
        "Es posible utilizar el operador \"*\" sobrecargado para los strings en Phyton:"
      ],
      "metadata": {
        "id": "mEldvRL1cZFp"
      }
    },
    {
      "cell_type": "code",
      "source": [
        "newest_string = \"abc\" * 3\n",
        "print(newest_string)\n",
        "print(type(newest_string))"
      ],
      "metadata": {
        "id": "j1J51OIYcg8S",
        "outputId": "acb86e2d-9908-4acb-eb2a-4527bda2273d",
        "colab": {
          "base_uri": "https://localhost:8080/"
        }
      },
      "execution_count": 20,
      "outputs": [
        {
          "output_type": "stream",
          "name": "stdout",
          "text": [
            "abcabcabc\n",
            "<class 'str'>\n"
          ]
        }
      ]
    }
  ],
  "metadata": {
    "colab": {
      "provenance": [],
      "include_colab_link": true
    },
    "kernelspec": {
      "display_name": "Python 3.10.7 64-bit",
      "language": "python",
      "name": "python3"
    },
    "language_info": {
      "codemirror_mode": {
        "name": "ipython",
        "version": 3
      },
      "file_extension": ".py",
      "mimetype": "text/x-python",
      "name": "python",
      "nbconvert_exporter": "python",
      "pygments_lexer": "ipython3",
      "version": "3.10.7"
    },
    "orig_nbformat": 4,
    "vscode": {
      "interpreter": {
        "hash": "eb4a0ac80907d7f44e1a5e88d3d3381b33e3dbedd3a24d113e876f30a0c46bee"
      }
    }
  },
  "nbformat": 4,
  "nbformat_minor": 0
}